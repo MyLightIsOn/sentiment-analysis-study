{
 "cells": [
  {
   "cell_type": "code",
   "id": "initial_id",
   "metadata": {
    "collapsed": true,
    "ExecuteTime": {
     "end_time": "2025-09-05T22:00:01.071111Z",
     "start_time": "2025-09-05T22:00:00.738342Z"
    }
   },
   "source": [
    "import pandas as pd\n",
    "from afinn import Afinn"
   ],
   "outputs": [],
   "execution_count": 1
  },
  {
   "metadata": {
    "ExecuteTime": {
     "end_time": "2025-09-05T22:01:08.926660Z",
     "start_time": "2025-09-05T22:01:08.904848Z"
    }
   },
   "cell_type": "code",
   "source": [
    "reviews_df = pd.read_excel('data/reviews.xlsx')\n",
    "reviews_df.head()"
   ],
   "id": "59fbd7932c012a54",
   "outputs": [
    {
     "data": {
      "text/plain": [
       "   Review ID  Source                                        Review Text\n",
       "0          1  Amazon  This water filter is amazing! Setup was super ...\n",
       "1          2  Amazon  It's okay. The water tastes fine, but the app ...\n",
       "2          3  Amazon  DO NOT BUY! This thing started leaking all ove...\n",
       "3          4  Amazon  Really happy with this purchase. The water qua...\n",
       "4          5  Amazon  Does what it says. Water tastes alright. Not a..."
      ],
      "text/html": [
       "<div>\n",
       "<style scoped>\n",
       "    .dataframe tbody tr th:only-of-type {\n",
       "        vertical-align: middle;\n",
       "    }\n",
       "\n",
       "    .dataframe tbody tr th {\n",
       "        vertical-align: top;\n",
       "    }\n",
       "\n",
       "    .dataframe thead th {\n",
       "        text-align: right;\n",
       "    }\n",
       "</style>\n",
       "<table border=\"1\" class=\"dataframe\">\n",
       "  <thead>\n",
       "    <tr style=\"text-align: right;\">\n",
       "      <th></th>\n",
       "      <th>Review ID</th>\n",
       "      <th>Source</th>\n",
       "      <th>Review Text</th>\n",
       "    </tr>\n",
       "  </thead>\n",
       "  <tbody>\n",
       "    <tr>\n",
       "      <th>0</th>\n",
       "      <td>1</td>\n",
       "      <td>Amazon</td>\n",
       "      <td>This water filter is amazing! Setup was super ...</td>\n",
       "    </tr>\n",
       "    <tr>\n",
       "      <th>1</th>\n",
       "      <td>2</td>\n",
       "      <td>Amazon</td>\n",
       "      <td>It's okay. The water tastes fine, but the app ...</td>\n",
       "    </tr>\n",
       "    <tr>\n",
       "      <th>2</th>\n",
       "      <td>3</td>\n",
       "      <td>Amazon</td>\n",
       "      <td>DO NOT BUY! This thing started leaking all ove...</td>\n",
       "    </tr>\n",
       "    <tr>\n",
       "      <th>3</th>\n",
       "      <td>4</td>\n",
       "      <td>Amazon</td>\n",
       "      <td>Really happy with this purchase. The water qua...</td>\n",
       "    </tr>\n",
       "    <tr>\n",
       "      <th>4</th>\n",
       "      <td>5</td>\n",
       "      <td>Amazon</td>\n",
       "      <td>Does what it says. Water tastes alright. Not a...</td>\n",
       "    </tr>\n",
       "  </tbody>\n",
       "</table>\n",
       "</div>"
      ]
     },
     "execution_count": 3,
     "metadata": {},
     "output_type": "execute_result"
    }
   ],
   "execution_count": 3
  },
  {
   "metadata": {
    "ExecuteTime": {
     "end_time": "2025-09-05T22:01:22.796625Z",
     "start_time": "2025-09-05T22:01:22.784202Z"
    }
   },
   "cell_type": "code",
   "source": "afinn = Afinn()",
   "id": "7a0fd0a0f1784aa2",
   "outputs": [],
   "execution_count": 5
  },
  {
   "metadata": {
    "ExecuteTime": {
     "end_time": "2025-09-05T22:01:35.688524Z",
     "start_time": "2025-09-05T22:01:35.685287Z"
    }
   },
   "cell_type": "code",
   "source": [
    "def afinn_sentiment(text):\n",
    "    score = afinn.score(str(text))\n",
    "    if score > 0:\n",
    "        label = \"Positive\"\n",
    "    elif score < 0:\n",
    "        label = \"Negative\"\n",
    "    else:\n",
    "        label = \"Neutral\"\n",
    "    return pd.Series([score, label])"
   ],
   "id": "9edc78d8aac0df2e",
   "outputs": [],
   "execution_count": 7
  },
  {
   "metadata": {
    "ExecuteTime": {
     "end_time": "2025-09-05T22:02:38.468202Z",
     "start_time": "2025-09-05T22:02:38.426148Z"
    }
   },
   "cell_type": "code",
   "source": [
    "results = reviews_df[[\"AFINN Score\", \"AFINN Sentiment\"]] = reviews_df[\"Review Text\"].apply(afinn_sentiment)\n",
    "print(results)"
   ],
   "id": "3843aec6c1df264b",
   "outputs": [
    {
     "name": "stdout",
     "output_type": "stream",
     "text": [
      "       0         1\n",
      "0   15.0  Positive\n",
      "1    2.0  Positive\n",
      "2   -1.0  Negative\n",
      "3   13.0  Positive\n",
      "4    1.0  Positive\n",
      "5    2.0  Positive\n",
      "6    3.0  Positive\n",
      "7    7.0  Positive\n",
      "8    6.0  Positive\n",
      "9    8.0  Positive\n",
      "10   7.0  Positive\n",
      "11  -3.0  Negative\n",
      "12  10.0  Positive\n",
      "13   4.0  Positive\n",
      "14   7.0  Positive\n",
      "15   3.0  Positive\n",
      "16   5.0  Positive\n",
      "17   6.0  Positive\n",
      "18   1.0  Positive\n",
      "19   8.0  Positive\n",
      "20   0.0   Neutral\n",
      "21   7.0  Positive\n",
      "22   3.0  Positive\n",
      "23   8.0  Positive\n",
      "24   5.0  Positive\n",
      "25   2.0  Positive\n",
      "26   4.0  Positive\n",
      "27   4.0  Positive\n",
      "28   1.0  Positive\n",
      "29  10.0  Positive\n",
      "30   8.0  Positive\n",
      "31   3.0  Positive\n",
      "32   6.0  Positive\n",
      "33   3.0  Positive\n",
      "34   5.0  Positive\n",
      "35   5.0  Positive\n",
      "36   3.0  Positive\n",
      "37  -2.0  Negative\n",
      "38   7.0  Positive\n",
      "39   9.0  Positive\n",
      "40   0.0   Neutral\n",
      "41   5.0  Positive\n",
      "42   2.0  Positive\n",
      "43   2.0  Positive\n",
      "44   8.0  Positive\n",
      "45  -2.0  Negative\n",
      "46  -3.0  Negative\n",
      "47   1.0  Positive\n",
      "48  -1.0  Negative\n",
      "49  -5.0  Negative\n"
     ]
    }
   ],
   "execution_count": 11
  }
 ],
 "metadata": {
  "kernelspec": {
   "display_name": "Python 3",
   "language": "python",
   "name": "python3"
  },
  "language_info": {
   "codemirror_mode": {
    "name": "ipython",
    "version": 2
   },
   "file_extension": ".py",
   "mimetype": "text/x-python",
   "name": "python",
   "nbconvert_exporter": "python",
   "pygments_lexer": "ipython2",
   "version": "2.7.6"
  }
 },
 "nbformat": 4,
 "nbformat_minor": 5
}
