{
 "cells": [
  {
   "metadata": {},
   "cell_type": "markdown",
   "source": [
    "# AFINN Sentiment Analysis\n",
    "\n",
    "This notebook demonstrates using the AFINN lexicon to perform sentiment analysis on customer reviews. AFINN assigns integer sentiment scores to words (typically from -5 to +5). We compute a total score per review and map it to a sentiment label."
   ],
   "id": "fa26be7e02a54695"
  },
  {
   "metadata": {},
   "cell_type": "markdown",
   "source": [
    "## Step 1 - Import Dependencies\n",
    "\n",
    "Import pandas for data handling and Afinn from the afinn library for lexicon-based sentiment scoring."
   ],
   "id": "51582243e6e3295"
  },
  {
   "metadata": {},
   "cell_type": "code",
   "outputs": [],
   "execution_count": null,
   "source": [
    "import pandas as pd\n",
    "from afinn import Afinn"
   ],
   "id": "33a907dca6837b0"
  },
  {
   "metadata": {},
   "cell_type": "markdown",
   "source": [
    "## Step 2 - Get Documents\n",
    "\n",
    "Read the reviews Excel sheet into a pandas DataFrame. Calling `head()` shows the first few rows to verify the data loaded correctly."
   ],
   "id": "2186e48e18c990ed"
  },
  {
   "metadata": {},
   "cell_type": "code",
   "outputs": [],
   "execution_count": null,
   "source": [
    "reviews_df = pd.read_excel('data/reviews.xlsx')\n",
    "reviews_df.head()"
   ],
   "id": "18c3b783bba075eb"
  },
  {
   "metadata": {},
   "cell_type": "markdown",
   "source": [
    "## Step 3 - Initialize AFINN\n",
    "\n",
    "Create an instance of `Afinn`, which provides the `score` method to compute a sentiment score for a given text by summing word scores."
   ],
   "id": "ca9bdad8e87da8de"
  },
  {
   "metadata": {},
   "cell_type": "code",
   "outputs": [],
   "execution_count": null,
   "source": "afinn = Afinn()",
   "id": "50747aa64c115596"
  },
  {
   "metadata": {},
   "cell_type": "markdown",
   "source": [
    "## Step 4 - Define Scoring Function\n",
    "\n",
    "The `afinn_sentiment` function:\n",
    "- Converts the input to a string to avoid issues with NaN/None values.\n",
    "- Uses `afinn.score(text)` to get a numeric score (negative = negative sentiment, positive = positive sentiment, 0 = neutral).\n",
    "- Maps the score to a simple label: Positive, Negative, or Neutral.\n",
    "\n",
    "It returns a pandas Series with two values: the numeric score and the label."
   ],
   "id": "545c1919035e4b3f"
  },
  {
   "metadata": {},
   "cell_type": "code",
   "outputs": [],
   "execution_count": null,
   "source": [
    "def afinn_sentiment(text):\n",
    "    score = afinn.score(str(text))\n",
    "    if score > 0:\n",
    "        label = \"Positive\"\n",
    "    elif score < 0:\n",
    "        label = \"Negative\"\n",
    "    else:\n",
    "        label = \"Neutral\"\n",
    "    return pd.Series([score, label])"
   ],
   "id": "e50c5474c511ad24"
  },
  {
   "metadata": {},
   "cell_type": "markdown",
   "source": [
    "## Step 5 - Results\n",
    "\n",
    "Apply the function to the \"Review Text\" column to produce two new columns: \"AFINN Score\" and \"AFINN Sentiment\". Then print the resulting series for quick inspection."
   ],
   "id": "18ca9af890edb500"
  },
  {
   "metadata": {},
   "cell_type": "code",
   "outputs": [],
   "execution_count": null,
   "source": [
    "results = reviews_df[[\"AFINN Score\", \"AFINN Sentiment\"]] = reviews_df[\"Review Text\"].apply(afinn_sentiment)\n",
    "print(results)"
   ],
   "id": "93ce6ceb787337ec"
  },
  {
   "metadata": {},
   "cell_type": "markdown",
   "source": [
    "### Notes\n",
    "\n",
    "- AFINN is lexicon-based and does not understand context, negation handling is simple and may miss nuances.\n",
    "- Consider preprocessing (lowercasing, removing punctuation) if your data is noisy.\n",
    "- Scores are additive; very long texts can accumulate larger magnitudes.\n",
    "- For more advanced handling (e.g., sarcasm, context), consider model-based approaches."
   ],
   "id": "243e1cbdfc60c5c5"
  }
 ],
 "metadata": {
  "kernelspec": {
   "display_name": "Python 3",
   "language": "python",
   "name": "python3"
  },
  "language_info": {
   "codemirror_mode": {
    "name": "ipython",
    "version": 2
   },
   "file_extension": ".py",
   "mimetype": "text/x-python",
   "name": "python",
   "nbconvert_exporter": "python",
   "pygments_lexer": "ipython2",
   "version": "2.7.6"
  }
 },
 "nbformat": 4,
 "nbformat_minor": 5
}
