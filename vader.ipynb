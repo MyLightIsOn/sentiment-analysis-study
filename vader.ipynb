{
 "cells": [
  {
   "cell_type": "code",
   "id": "initial_id",
   "metadata": {
    "collapsed": true,
    "ExecuteTime": {
     "end_time": "2025-09-05T22:15:12.545930Z",
     "start_time": "2025-09-05T22:15:12.003154Z"
    }
   },
   "source": [
    "import pandas as pd\n",
    "from vaderSentiment.vaderSentiment import SentimentIntensityAnalyzer"
   ],
   "outputs": [],
   "execution_count": 1
  },
  {
   "metadata": {},
   "cell_type": "code",
   "source": [
    "reviews_df = pd.read_excel('data/reviews.xlsx')\n",
    "reviews_df.head()"
   ],
   "id": "ab374fa272dc92bf",
   "outputs": [],
   "execution_count": null
  },
  {
   "metadata": {
    "ExecuteTime": {
     "end_time": "2025-09-05T22:16:02.306855Z",
     "start_time": "2025-09-05T22:16:02.292940Z"
    }
   },
   "cell_type": "code",
   "source": "vader = SentimentIntensityAnalyzer()",
   "id": "e2960acdf9ed222a",
   "outputs": [],
   "execution_count": 4
  },
  {
   "metadata": {
    "ExecuteTime": {
     "end_time": "2025-09-05T22:16:19.221146Z",
     "start_time": "2025-09-05T22:16:19.217976Z"
    }
   },
   "cell_type": "code",
   "source": [
    "def vader_scores(text: str):\n",
    "    s = vader.polarity_scores(str(text))\n",
    "    compound = s[\"compound\"]\n",
    "    if compound >= 0.05:\n",
    "        label = \"Positive\"\n",
    "    elif compound <= -0.05:\n",
    "        label = \"Negative\"\n",
    "    else:\n",
    "        label = \"Neutral\"\n",
    "    return pd.Series([s[\"neg\"], s[\"neu\"], s[\"pos\"], compound, label])"
   ],
   "id": "77987af88f6399b2",
   "outputs": [],
   "execution_count": 5
  },
  {
   "metadata": {
    "ExecuteTime": {
     "end_time": "2025-09-05T22:16:53.248423Z",
     "start_time": "2025-09-05T22:16:53.226500Z"
    }
   },
   "cell_type": "code",
   "source": [
    "results = reviews_df[[\"VADER_neg\", \"VADER_neu\", \"VADER_pos\", \"VADER_compound\", \"VADER_label\"]] = (\n",
    "    reviews_df[\"Review Text\"].apply(vader_scores)\n",
    ")\n",
    "print(results)"
   ],
   "id": "44ff205256c92441",
   "outputs": [
    {
     "name": "stdout",
     "output_type": "stream",
     "text": [
      "        0      1      2       3         4\n",
      "0   0.000  0.690  0.310  0.9521  Positive\n",
      "1   0.096  0.731  0.173  0.2144  Positive\n",
      "2   0.119  0.881  0.000 -0.5665  Negative\n",
      "3   0.000  0.596  0.404  0.9622  Positive\n",
      "4   0.057  0.885  0.058  0.0049   Neutral\n",
      "5   0.000  0.772  0.228  0.8570  Positive\n",
      "6   0.070  0.877  0.053 -0.1533  Negative\n",
      "7   0.000  0.668  0.332  0.9318  Positive\n",
      "8   0.000  0.819  0.181  0.6369  Positive\n",
      "9   0.000  0.655  0.345  0.9348  Positive\n",
      "10  0.000  0.651  0.349  0.8818  Positive\n",
      "11  0.168  0.751  0.081 -0.4391  Negative\n",
      "12  0.000  0.593  0.407  0.9287  Positive\n",
      "13  0.000  0.876  0.124  0.3716  Positive\n",
      "14  0.000  0.687  0.313  0.8020  Positive\n",
      "15  0.000  0.862  0.138  0.4939  Positive\n",
      "16  0.000  0.581  0.419  0.7574  Positive\n",
      "17  0.000  0.728  0.272  0.8622  Positive\n",
      "18  0.129  0.813  0.058 -0.3163  Negative\n",
      "19  0.000  0.577  0.423  0.9446  Positive\n",
      "20  0.000  1.000  0.000  0.0000   Neutral\n",
      "21  0.000  0.580  0.420  0.9062  Positive\n",
      "22  0.168  0.832  0.000 -0.3449  Negative\n",
      "23  0.000  0.639  0.361  0.8793  Positive\n",
      "24  0.000  0.556  0.444  0.8016  Positive\n",
      "25  0.047  0.697  0.256  0.8163  Positive\n",
      "26  0.094  0.807  0.099  0.0390   Neutral\n",
      "27  0.000  0.462  0.538  0.7906  Positive\n",
      "28  0.000  0.588  0.412  0.9233  Positive\n",
      "29  0.000  0.727  0.273  0.8685  Positive\n",
      "30  0.078  0.744  0.178  0.5833  Positive\n",
      "31  0.000  0.494  0.506  0.6249  Positive\n",
      "32  0.000  0.840  0.160  0.6908  Positive\n",
      "33  0.000  0.826  0.174  0.6369  Positive\n",
      "34  0.118  0.706  0.176  0.2853  Positive\n",
      "35  0.000  0.735  0.265  0.8016  Positive\n",
      "36  0.000  0.744  0.256  0.7351  Positive\n",
      "37  0.000  0.732  0.268  0.8087  Positive\n",
      "38  0.158  0.670  0.172  0.3522  Positive\n",
      "39  0.000  0.746  0.254  0.6989  Positive\n",
      "40  0.000  1.000  0.000  0.0000   Neutral\n",
      "41  0.000  0.705  0.295  0.8313  Positive\n",
      "42  0.136  0.780  0.084 -0.1647  Negative\n",
      "43  0.000  0.898  0.102  0.3612  Positive\n",
      "44  0.000  0.547  0.453  0.8913  Positive\n",
      "45  0.000  0.735  0.265  0.6621  Positive\n",
      "46  0.171  0.759  0.070 -0.5563  Negative\n",
      "47  0.094  0.694  0.212  0.5267  Positive\n",
      "48  0.164  0.836  0.000 -0.6901  Negative\n",
      "49  0.202  0.798  0.000 -0.6486  Negative\n"
     ]
    }
   ],
   "execution_count": 6
  }
 ],
 "metadata": {
  "kernelspec": {
   "display_name": "Python 3",
   "language": "python",
   "name": "python3"
  },
  "language_info": {
   "codemirror_mode": {
    "name": "ipython",
    "version": 2
   },
   "file_extension": ".py",
   "mimetype": "text/x-python",
   "name": "python",
   "nbconvert_exporter": "python",
   "pygments_lexer": "ipython2",
   "version": "2.7.6"
  }
 },
 "nbformat": 4,
 "nbformat_minor": 5
}
