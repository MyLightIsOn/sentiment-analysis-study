{
 "cells": [
  {
   "metadata": {},
   "cell_type": "markdown",
   "source": [
    "# TextBlob Sentiment Analysis\n",
    "\n",
    "This notebook demonstrates using TextBlob to compute sentiment polarity and subjectivity for customer reviews. TextBlob provides a simple API to extract these scores from text."
   ],
   "id": "7993d60e5458375d"
  },
  {
   "metadata": {},
   "cell_type": "markdown",
   "source": [
    "## Step 1 - Import Dependencies\n",
    "\n",
    "Import pandas for data handling and `TextBlob` (and `Word`) from the textblob library for sentiment analysis utilities."
   ],
   "id": "4c82de4aaafb142b"
  },
  {
   "metadata": {},
   "cell_type": "code",
   "outputs": [],
   "execution_count": null,
   "source": [
    "from textblob import TextBlob, Word\n",
    "import pandas as pd"
   ],
   "id": "26da0e1dfb1dbe5"
  },
  {
   "metadata": {},
   "cell_type": "markdown",
   "source": [
    "## Step 2 - Get Documents\n",
    "\n",
    "Read the reviews Excel sheet into a pandas DataFrame. Calling `head()` shows the first few rows to verify the data loaded correctly."
   ],
   "id": "e2cf92bd8f38786c"
  },
  {
   "metadata": {},
   "cell_type": "code",
   "outputs": [],
   "execution_count": null,
   "source": [
    "reviews_df = pd.read_excel('data/reviews.xlsx')\n",
    "reviews_df.head()"
   ],
   "id": "9b2bfbc6646d7fa4"
  },
  {
   "metadata": {},
   "cell_type": "markdown",
   "source": [
    "## Step 3 - Define Processing Function\n",
    "\n",
    "The `process_row` function computes two values for each review text:\n",
    "- Polarity: how positive/negative the sentiment is, ranging from -1.0 (very negative) to +1.0 (very positive).\n",
    "- Subjectivity: how opinionated the text is, ranging from 0.0 (very objective) to 1.0 (very subjective).\n",
    "\n",
    "It then trims each float to two decimal places for readability and returns a tuple `(polarity, subjectivity)`."
   ],
   "id": "c88f719d95ea8adb"
  },
  {
   "metadata": {},
   "cell_type": "code",
   "outputs": [],
   "execution_count": null,
   "source": [
    "def process_row(row):\n",
    "    polarity = TextBlob(row['Review Text']).sentiment.polarity\n",
    "    subjectivity = TextBlob(row['Review Text']).sentiment.subjectivity\n",
    "\n",
    "    factor = 10 ** 2\n",
    "    polarity_final = int(polarity * factor) / factor\n",
    "    subjectivity_final = int(subjectivity * factor) / factor\n",
    "    return polarity_final, subjectivity_final"
   ],
   "id": "230342cd37586dc9"
  },
  {
   "metadata": {},
   "cell_type": "markdown",
   "source": [
    "## Step 4 - Results\n",
    "\n",
    "Apply the function to each row to produce a Series of `(polarity, subjectivity)` tuples, then print the results for quick inspection."
   ],
   "id": "83705a97791803be"
  },
  {
   "metadata": {},
   "cell_type": "code",
   "outputs": [],
   "execution_count": null,
   "source": [
    "results = reviews_df.apply(process_row, axis=1)\n",
    "print(results)"
   ],
   "id": "750be9b08f6c3cb"
  },
  {
   "metadata": {},
   "cell_type": "markdown",
   "source": [
    "### Notes\n",
    "\n",
    "- TextBlob’s sentiment is rule/lexicon-based (PatternAnalyzer) and may miss context, sarcasm, or complex negations.\n",
    "- Consider basic preprocessing (e.g., lowercasing, removing punctuation) if your data is noisy.\n",
    "- Polarity and subjectivity are independent measures; a text can be highly subjective yet neutral in polarity.\n",
    "- For more advanced handling (e.g., domain adaptation, context), consider model-based approaches."
   ],
   "id": "88f64fc334b20282"
  }
 ],
 "metadata": {
  "kernelspec": {
   "display_name": "Python 3",
   "language": "python",
   "name": "python3"
  },
  "language_info": {
   "codemirror_mode": {
    "name": "ipython",
    "version": 2
   },
   "file_extension": ".py",
   "mimetype": "text/x-python",
   "name": "python",
   "nbconvert_exporter": "python",
   "pygments_lexer": "ipython2",
   "version": "2.7.6"
  }
 },
 "nbformat": 4,
 "nbformat_minor": 5
}
