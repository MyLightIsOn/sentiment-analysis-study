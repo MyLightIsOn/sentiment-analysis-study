{
 "cells": [
  {
   "metadata": {},
   "cell_type": "markdown",
   "source": [
    "# TextBlob Sentiment Analysis\n",
    "\n",
    "This is an example of using TextBlob to do a sentiment analysis."
   ],
   "id": "50c184dfaeebed33"
  },
  {
   "metadata": {},
   "cell_type": "markdown",
   "source": [
    "## Step 1 - Import Dependencies\n",
    "\n",
    "Importing TextBlob and Word class from the textblob library. Also I am importing pandas to work with dataframes."
   ],
   "id": "3ffa03c969f7da16"
  },
  {
   "metadata": {
    "ExecuteTime": {
     "end_time": "2025-09-05T21:57:50.853865Z",
     "start_time": "2025-09-05T21:57:48.347180Z"
    }
   },
   "cell_type": "code",
   "source": [
    "from textblob import TextBlob, Word\n",
    "import pandas as pd"
   ],
   "id": "fbc121e30a2defb3",
   "outputs": [],
   "execution_count": 1
  },
  {
   "metadata": {},
   "cell_type": "markdown",
   "source": [
    "## Step 2 - Get Documents\n",
    "Import in the reviews excel sheet and store it in the reviews_df (dataframe) variable. Running reviews_df.head() verifies that the document is being read by displaying the first few rows."
   ],
   "id": "a158c94e50984818"
  },
  {
   "metadata": {
    "ExecuteTime": {
     "end_time": "2025-09-05T21:58:32.926052Z",
     "start_time": "2025-09-05T21:58:32.822752Z"
    }
   },
   "cell_type": "code",
   "source": [
    "reviews_df = pd.read_excel('data/reviews.xlsx')\n",
    "reviews_df.head()"
   ],
   "id": "eb09aae98679c1b2",
   "outputs": [
    {
     "data": {
      "text/plain": [
       "   Review ID  Source                                        Review Text\n",
       "0          1  Amazon  This water filter is amazing! Setup was super ...\n",
       "1          2  Amazon  It's okay. The water tastes fine, but the app ...\n",
       "2          3  Amazon  DO NOT BUY! This thing started leaking all ove...\n",
       "3          4  Amazon  Really happy with this purchase. The water qua...\n",
       "4          5  Amazon  Does what it says. Water tastes alright. Not a..."
      ],
      "text/html": [
       "<div>\n",
       "<style scoped>\n",
       "    .dataframe tbody tr th:only-of-type {\n",
       "        vertical-align: middle;\n",
       "    }\n",
       "\n",
       "    .dataframe tbody tr th {\n",
       "        vertical-align: top;\n",
       "    }\n",
       "\n",
       "    .dataframe thead th {\n",
       "        text-align: right;\n",
       "    }\n",
       "</style>\n",
       "<table border=\"1\" class=\"dataframe\">\n",
       "  <thead>\n",
       "    <tr style=\"text-align: right;\">\n",
       "      <th></th>\n",
       "      <th>Review ID</th>\n",
       "      <th>Source</th>\n",
       "      <th>Review Text</th>\n",
       "    </tr>\n",
       "  </thead>\n",
       "  <tbody>\n",
       "    <tr>\n",
       "      <th>0</th>\n",
       "      <td>1</td>\n",
       "      <td>Amazon</td>\n",
       "      <td>This water filter is amazing! Setup was super ...</td>\n",
       "    </tr>\n",
       "    <tr>\n",
       "      <th>1</th>\n",
       "      <td>2</td>\n",
       "      <td>Amazon</td>\n",
       "      <td>It's okay. The water tastes fine, but the app ...</td>\n",
       "    </tr>\n",
       "    <tr>\n",
       "      <th>2</th>\n",
       "      <td>3</td>\n",
       "      <td>Amazon</td>\n",
       "      <td>DO NOT BUY! This thing started leaking all ove...</td>\n",
       "    </tr>\n",
       "    <tr>\n",
       "      <th>3</th>\n",
       "      <td>4</td>\n",
       "      <td>Amazon</td>\n",
       "      <td>Really happy with this purchase. The water qua...</td>\n",
       "    </tr>\n",
       "    <tr>\n",
       "      <th>4</th>\n",
       "      <td>5</td>\n",
       "      <td>Amazon</td>\n",
       "      <td>Does what it says. Water tastes alright. Not a...</td>\n",
       "    </tr>\n",
       "  </tbody>\n",
       "</table>\n",
       "</div>"
      ]
     },
     "execution_count": 3,
     "metadata": {},
     "output_type": "execute_result"
    }
   ],
   "execution_count": 3
  },
  {
   "metadata": {},
   "cell_type": "markdown",
   "source": [
    "## Step 3 - Run Sentiment Analysis\n",
    "Here I have create a funciton that gets the polarity and subjectivity properties from each review. Polarity being how positive or negative the sentiment is (-1 to +1) and subjectivity which decides if it is an opinion or fact. (0 = very objective (fact-like) 1 = very subjective (opinionated)). Then the floats are trimmed down to 2 decimal places."
   ],
   "id": "1c6600fc248c734e"
  },
  {
   "metadata": {
    "ExecuteTime": {
     "end_time": "2025-09-05T21:58:35.843434Z",
     "start_time": "2025-09-05T21:58:35.840542Z"
    }
   },
   "cell_type": "code",
   "source": [
    "def process_row(row):\n",
    "    polarity = TextBlob(row['Review Text']).sentiment.polarity\n",
    "    subjectivity = TextBlob(row['Review Text']).sentiment.subjectivity\n",
    "\n",
    "    factor = 10 ** 2\n",
    "    polarity_final = int(polarity * factor) / factor\n",
    "    subjectivity_final = int(subjectivity * factor) / factor\n",
    "    return polarity_final, subjectivity_final"
   ],
   "id": "71e4c05d07affea8",
   "outputs": [],
   "execution_count": 4
  },
  {
   "metadata": {},
   "cell_type": "markdown",
   "source": [
    "# Step 4 - Results\n",
    "This step applies the function to each row and prints the results."
   ],
   "id": "b759c5d1dfbbfcc"
  },
  {
   "metadata": {
    "ExecuteTime": {
     "end_time": "2025-09-05T21:58:38.614840Z",
     "start_time": "2025-09-05T21:58:38.554080Z"
    }
   },
   "cell_type": "code",
   "source": [
    "results = reviews_df.apply(process_row, axis=1)\n",
    "print(results)"
   ],
   "id": "64526580ec5a3656",
   "outputs": [
    {
     "name": "stdout",
     "output_type": "stream",
     "text": [
      "0       (0.44, 0.6)\n",
      "1       (0.02, 0.5)\n",
      "2     (-0.11, 0.16)\n",
      "3       (0.4, 0.77)\n",
      "4      (-0.1, 0.51)\n",
      "5      (0.34, 0.52)\n",
      "6      (0.12, 0.59)\n",
      "7      (0.37, 0.51)\n",
      "8      (0.28, 0.63)\n",
      "9      (0.41, 0.57)\n",
      "10      (0.4, 0.56)\n",
      "11    (-0.15, 0.77)\n",
      "12      (0.4, 0.66)\n",
      "13       (0.5, 0.5)\n",
      "14     (0.28, 0.43)\n",
      "15    (-0.03, 0.69)\n",
      "16       (1.0, 1.0)\n",
      "17     (0.47, 0.46)\n",
      "18    (-0.36, 0.76)\n",
      "19      (0.5, 0.62)\n",
      "20    (-0.03, 0.23)\n",
      "21      (0.6, 0.67)\n",
      "22    (-0.07, 0.67)\n",
      "23     (0.52, 0.67)\n",
      "24      (1.0, 0.75)\n",
      "25     (0.31, 0.61)\n",
      "26      (0.1, 0.65)\n",
      "27     (0.61, 0.79)\n",
      "28     (0.36, 0.77)\n",
      "29      (0.4, 0.35)\n",
      "30     (0.02, 0.47)\n",
      "31      (0.8, 0.75)\n",
      "32     (0.37, 0.48)\n",
      "33      (0.5, 0.55)\n",
      "34      (0.3, 0.78)\n",
      "35     (0.56, 0.66)\n",
      "36     (0.33, 0.56)\n",
      "37     (0.11, 0.43)\n",
      "38     (0.07, 0.37)\n",
      "39     (0.28, 0.62)\n",
      "40      (0.0, 0.38)\n",
      "41     (0.18, 0.32)\n",
      "42      (0.2, 0.45)\n",
      "43     (0.08, 0.83)\n",
      "44     (0.28, 0.27)\n",
      "45     (0.46, 0.66)\n",
      "46     (-0.26, 0.5)\n",
      "47     (0.17, 0.58)\n",
      "48    (-0.97, 0.97)\n",
      "49     (-0.25, 0.6)\n",
      "dtype: object\n"
     ]
    }
   ],
   "execution_count": 5
  }
 ],
 "metadata": {
  "kernelspec": {
   "display_name": "Python 3",
   "language": "python",
   "name": "python3"
  },
  "language_info": {
   "codemirror_mode": {
    "name": "ipython",
    "version": 2
   },
   "file_extension": ".py",
   "mimetype": "text/x-python",
   "name": "python",
   "nbconvert_exporter": "python",
   "pygments_lexer": "ipython2",
   "version": "2.7.6"
  }
 },
 "nbformat": 4,
 "nbformat_minor": 5
}
